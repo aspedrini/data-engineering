{
 "cells": [
  {
   "cell_type": "code",
   "execution_count": 1,
   "metadata": {},
   "outputs": [],
   "source": [
    "import os \n",
    "from datetime import datetime\n",
    "from zipfile import ZipFile\n",
    "import py7zr\n",
    "import pandas as pd"
   ]
  },
  {
   "cell_type": "code",
   "execution_count": 2,
   "metadata": {},
   "outputs": [],
   "source": [
    "# Base Folder\n",
    "base_folder = '.\\\\versao 2'\n",
    "\n",
    "# Downloads Staging Area\n",
    "downloads_folder = base_folder + '\\\\downloads'\n",
    "\n",
    "# Datasets Staging Area\n",
    "datasets_folder = base_folder + '\\\\datasets'"
   ]
  },
  {
   "cell_type": "code",
   "execution_count": 3,
   "metadata": {},
   "outputs": [],
   "source": [
    "log = {'filename':[], 'modified_at': [], 'extracted_at':[]}"
   ]
  },
  {
   "cell_type": "code",
   "execution_count": 6,
   "metadata": {},
   "outputs": [
    {
     "name": "stdout",
     "output_type": "stream",
     "text": [
      "* The file 'dataset 2-1.zip' with '19-02-2023 11:32:30' already exists on the log. Skipping file.\n",
      "* The file 'dataset.7z' with '18-02-2023 10:45:56' already exists on the log. Skipping file.\n"
     ]
    }
   ],
   "source": [
    "files = os.listdir(downloads_folder)\n",
    "\n",
    "for file in files:\n",
    "\n",
    "    now = datetime.now().strftime(\"%d-%m-%Y %H:%M:%S\")\n",
    "    file_path = downloads_folder + '\\\\' + file\n",
    "\n",
    "    # Get timestamp from files:\n",
    "    timestamp = (os.path.getmtime(file_path))\n",
    "    modified_at = datetime.fromtimestamp(timestamp)\n",
    "    date_str = modified_at.strftime(\"%d-%m-%Y %H:%M:%S\") \n",
    "\n",
    "    # Check if exists on 'log' dict:\n",
    "    if file not in log['filename'] and date_str not in log['modified_at']:\n",
    "        log['filename'].append(file)\n",
    "        log['modified_at'].append(date_str)\n",
    "        \n",
    "        # Append to 'log' table\n",
    "        print(f\"The file '{file}' modified in '{date_str}' does not exist in the logs. Proceeding to extract.\")\n",
    "        \n",
    "        # Decompress files from the Downloads area to Datasets area\n",
    "        file_details = file.split(sep = '.', maxsplit=1)\n",
    "        folder_name = file_details[0] + ' ' + modified_at.strftime(\"%d-%m-%Y %H.%M.%S\") \n",
    "\n",
    "        # Check if .zip or .7zip\n",
    "        file_ext = file_details[-1]\n",
    "\n",
    "        # 7z extract\n",
    "        if '7z' in file_ext:\n",
    "            with py7zr.SevenZipFile(file_path, 'r') as f:\n",
    "                f.extract(datasets_folder + '\\\\' + folder_name)\n",
    "                log['extracted_at'].append(now)\n",
    "                print('File extracted successfully')\n",
    "\n",
    "        # zip extract\n",
    "        elif file_ext == 'zip':\n",
    "            with ZipFile(file_path, 'r') as f:\n",
    "                f.extractall(datasets_folder + '\\\\' + folder_name)\n",
    "                log['extracted_at'].append(now)\n",
    "                print('File extracted successfully')\n",
    "\n",
    "        else:\n",
    "            print(f\"File: '{file}' - extension not supported. Please use '.zip' or '.7z' files only.\")\n",
    "\n",
    "        download_log = pd.DataFrame.from_dict(log)\n",
    "        download_log.to_csv('.\\\\versao 2\\download_logs.csv', index = False)\n",
    "\n",
    "    else:\n",
    "        print(f\"* The file '{file}' with '{date_str}' already exists on the log. Skipping file.\")"
   ]
  },
  {
   "cell_type": "code",
   "execution_count": null,
   "metadata": {},
   "outputs": [],
   "source": [
    "download_log.head().sort_values('extracted_at', ascending = False)"
   ]
  }
 ],
 "metadata": {
  "kernelspec": {
   "display_name": "Python 3",
   "language": "python",
   "name": "python3"
  },
  "language_info": {
   "codemirror_mode": {
    "name": "ipython",
    "version": 3
   },
   "file_extension": ".py",
   "mimetype": "text/x-python",
   "name": "python",
   "nbconvert_exporter": "python",
   "pygments_lexer": "ipython3",
   "version": "3.10.10"
  },
  "orig_nbformat": 4,
  "vscode": {
   "interpreter": {
    "hash": "946f3902afba8791e129f079cfc722baaaac8db525ef38315c0fd9e678d77d4b"
   }
  }
 },
 "nbformat": 4,
 "nbformat_minor": 2
}
